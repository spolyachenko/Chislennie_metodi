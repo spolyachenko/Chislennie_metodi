{
 "cells": [
  {
   "cell_type": "markdown",
   "id": "d72c8629",
   "metadata": {},
   "source": [
    "Лабораторная 1: Вычисление e^x c заданой точностью"
   ]
  },
  {
   "cell_type": "code",
   "execution_count": 1,
   "id": "4fba88f6",
   "metadata": {},
   "outputs": [
    {
     "data": {
      "text/plain": [
       "7.389046015712681"
      ]
     },
     "execution_count": 1,
     "metadata": {},
     "output_type": "execute_result"
    }
   ],
   "source": [
    "def exp_eps(x, eps):\n",
    "    res = 1\n",
    "    i = 1\n",
    "    numer = x\n",
    "    denum = i\n",
    "    while(numer/denum > eps):\n",
    "        res += numer/denum\n",
    "        numer *= x\n",
    "        i += 1\n",
    "        denum *= i\n",
    "    return res\n",
    "\n",
    "exp_eps(2, 0.00001)"
   ]
  },
  {
   "cell_type": "markdown",
   "id": "b4dfd4df",
   "metadata": {},
   "source": [
    "Лабораторная 2: Численное дифференцирование"
   ]
  },
  {
   "cell_type": "code",
   "execution_count": 2,
   "id": "0b0a67fa",
   "metadata": {},
   "outputs": [
    {
     "name": "stdout",
     "output_type": "stream",
     "text": [
      "0.5753600000000001\n",
      "0.44628\n",
      "0.51082\n",
      "-0.25816000000000017\n"
     ]
    }
   ],
   "source": [
    "def diff_left(h, f, x0):\n",
    "    return (f[x0] - f[x0 - h]) / h\n",
    "def diff_right(h, f, x0):\n",
    "    return (f[x0 + h] - f[x0]) / h\n",
    "def diff_center(h, f, x0):\n",
    "    return (diff_left(h, f, x0) + diff_right(h, f, x0)) / 2\n",
    "def second_diff(h, f, x0):\n",
    "    return (f[x0 + h] + f[x0 - h] - 2 * f[x0]) / (h * h)\n",
    "\n",
    "f = {\n",
    "    1.0: 0.0,\n",
    "    1.5: 0.40547,\n",
    "    2.0: 0.69315,\n",
    "    2.5: 0.91629,\n",
    "    3.0: 1.0986\n",
    "}\n",
    "h = 0.5\n",
    "x0 = 2.0\n",
    "print(diff_left(h, f, x0))\n",
    "print(diff_right(h, f, x0))\n",
    "print(diff_center(h, f, x0))\n",
    "print(second_diff(h, f, x0))"
   ]
  },
  {
   "cell_type": "markdown",
   "id": "6a5f44c9",
   "metadata": {},
   "source": [
    "Лабораторная 3: Интерполяционные многочлены Лагранжа и Ньютона"
   ]
  },
  {
   "cell_type": "code",
   "execution_count": 3,
   "id": "04877c86",
   "metadata": {},
   "outputs": [
    {
     "name": "stdout",
     "output_type": "stream",
     "text": [
      "0.7071067811865474\n",
      "0.7058892896287468\n",
      "0.7071067811865476\n"
     ]
    }
   ],
   "source": [
    "from math import pi\n",
    "from math import cos\n",
    "\n",
    "def f(x):\n",
    "    return cos(x)\n",
    "\n",
    "def L(X, x0):\n",
    "    res = 0\n",
    "    for i in range(len(X)):\n",
    "        mult = f(x0)\n",
    "        for j in range(len(X)):\n",
    "            if i != j:\n",
    "                mult *= (x0 - X[j])/(X[i] - X[j])\n",
    "        res += mult\n",
    "    return res\n",
    "\n",
    "def fp(X, i, j):\n",
    "    if j - i == 0:\n",
    "        return f(X[i])\n",
    "    else:\n",
    "        return (fp(X, i, j-1) - fp(X, i+1, j)) / (X[i] - X[j])\n",
    "\n",
    "def P(X, x0):\n",
    "    res = fp(X, 0, 0)\n",
    "    fact = 1\n",
    "    for i in range(1, len(X)):\n",
    "        fact *= (x0 - X[i - 1])\n",
    "        res += fact * fp(X, 0, i)\n",
    "    return res\n",
    "\n",
    "X = [0, pi / 6, 2 * pi / 6, 3 * pi / 6]\n",
    "x0 = pi / 4\n",
    "\n",
    "print(L(X, x0))\n",
    "print(P(X, x0))\n",
    "print(f(x0))"
   ]
  },
  {
   "cell_type": "code",
   "execution_count": 4,
   "id": "06174e69",
   "metadata": {},
   "outputs": [
    {
     "data": {
      "image/png": "[encoded data removed]",
      "text/plain": [
       "<Figure size 432x288 with 1 Axes>"
      ]
     },
     "metadata": {
      "needs_background": "light"
     },
     "output_type": "display_data"
    }
   ],
   "source": [
    "import matplotlib.pyplot as plt\n",
    "import numpy as np\n",
    "\n",
    "plt.plot([x for x in np.arange(0, 3*pi/6, 0.01)], [f(x) for x in np.arange(0, 3*pi/6, 0.01)], label=\"cos(x)\", color = \"r\", alpha = 0.5)\n",
    "plt.plot([x for x in np.arange(0, 3*pi/6, 0.01)], [L(X, x) for x in np.arange(0, 3*pi/6, 0.01)], label=\"Полином Лагранжа\", color = \"g\", linestyle=\"-.\")\n",
    "plt.plot([x for x in np.arange(0, 3*pi/6, 0.01)], [P(X, x) for x in np.arange(0, 3*pi/6, 0.01)], label=\"Полином Ньютона\", color = \"b\", linestyle=\":\")\n",
    "plt.legend()\n",
    "plt.show()"
   ]
  },
  {
   "cell_type": "markdown",
   "id": "0a0ccebc",
   "metadata": {},
   "source": [
    "Лабораторная 4: Интерполяция сплайнами"
   ]
  },
  {
   "cell_type": "code",
   "execution_count": 5,
   "id": "017fccb1",
   "metadata": {},
   "outputs": [
    {
     "data": {
      "text/plain": [
       "0.7108741517857143"
      ]
     },
     "execution_count": 5,
     "metadata": {},
     "output_type": "execute_result"
    }
   ],
   "source": [
    "def TDMA(X, Y):\n",
    "    f = np.array([3 * ((Y[i] - Y[i-1]) / (X[i] - X[i-1]) - (Y[i-1] - Y[i-2])/(X[i-1] - X[i-2])) for i in range(2, len(Y))])\n",
    "    b = np.array([X[i] - X[i-1] for i in range(2, len(Y) - 1)])\n",
    "    b = np.append(b, 0)\n",
    "    c = np.array([2*(X[i] - X[i-2]) for i in range(2, len(Y))], dtype = \"float64\")\n",
    "    a = np.array([X[i-1] - X[i-2] for i in range(3, len(Y))])\n",
    "    a = np.insert(a, 0, 0)\n",
    "    \n",
    "    a, b, c, f = tuple(map(lambda k_list: list(map(float, k_list)), (a, b, c, f)))\n",
    "\n",
    "    alpha = [-b[0] / c[0]]\n",
    "    beta = [f[0] / c[0]]\n",
    "    n = len(f)\n",
    "    x = [0]*n\n",
    "\n",
    "    for i in range(1, n):\n",
    "        alpha.append(-b[i]/(a[i]*alpha[i-1] + c[i]))\n",
    "        beta.append((f[i] - a[i]*beta[i-1])/(a[i]*alpha[i-1] + c[i]))\n",
    "\n",
    "    x[n-1] = beta[n - 1]\n",
    "\n",
    "    for i in range(n-1, -1, -1):\n",
    "        x[i - 1] = alpha[i - 1]*x[i] + beta[i - 1]\n",
    "\n",
    "    return x\n",
    "\n",
    "def S(X, Y, x0):\n",
    "    c = TDMA(X, Y)\n",
    "    c.insert(0, .0)\n",
    "    c.append(.0)\n",
    "    a = np.zeros(len(c))\n",
    "    b = np.zeros(len(c))\n",
    "    d = np.zeros(len(c))\n",
    "    c.insert(0, .0)\n",
    "    for i in range(1, len(a)):\n",
    "        h = X[i] - X[i-1]\n",
    "        a[i] = Y[i-1]\n",
    "        b[i] = (Y[i]-Y[i-1])*h - h*(c[i+1] + 2 * c[i])/3\n",
    "        d[i] = (c[i+1] - c[i]) / 3 / h\n",
    "    for i in range(1, len(X)):\n",
    "        if x0 >= X[i-1] and x0 <= X[i]:\n",
    "            h = x0 - X[i-1]\n",
    "            return a[i] + b[i] * h + c[i] * h * h + d[i] * h * h * h \n",
    "    return None\n",
    "X = [0, 1, 2, 3, 4]\n",
    "Y = [1.0, 0.86603, 0.5, 0, -0.5]\n",
    "x0 = 1.5\n",
    "S(X, Y, x0)"
   ]
  },
  {
   "cell_type": "code",
   "execution_count": 6,
   "id": "cf56e337",
   "metadata": {},
   "outputs": [
    {
     "data": {
      "image/png": "[encoded data removed]",
      "text/plain": [
       "<Figure size 432x288 with 1 Axes>"
      ]
     },
     "metadata": {
      "needs_background": "light"
     },
     "output_type": "display_data"
    }
   ],
   "source": [
    "plt.clf()\n",
    "plt.plot([x for x in np.arange(0, 4, 0.01)], [S(X, Y, x) for x in np.arange(0, 4, 0.01)], color = \"r\")\n",
    "plt.show()"
   ]
  },
  {
   "cell_type": "markdown",
   "id": "569b1190",
   "metadata": {},
   "source": [
    "Лабораторная 5: Метод наименьших квадратов"
   ]
  },
  {
   "cell_type": "code",
   "execution_count": 7,
   "id": "961a4aae",
   "metadata": {},
   "outputs": [],
   "source": [
    "def sum_of_pows(X, Y, p):\n",
    "    return sum([y * (x**p) for x, y in zip(X, Y)])\n",
    "\n",
    "def solve(X, Y, n, x0):\n",
    "    \n",
    "    ones = np.ones(len(X))\n",
    "    \n",
    "    #Вычислим матрицу системы\n",
    "    w = np.zeros((n + 1, n + 1))\n",
    "    for i in range(n + 1):\n",
    "        curr_sum = sum_of_pows(X, ones, i)\n",
    "        for j in range(n + 1):\n",
    "            w[i - j][j] = curr_sum\n",
    "    for i in range(n + 1, 2*n + 1):\n",
    "        curr_sum = sum_of_pows(X, ones, i)\n",
    "        for j in range(i - n, n + 1):\n",
    "            w[j][i - j] = curr_sum\n",
    "    \n",
    "    #Вычислим правую часть системы\n",
    "    f = np.array([sum_of_pows(X, Y, p) for p in range(n+1)])\n",
    "    \n",
    "    if np.linalg.det(w) == 0:\n",
    "        print(\"Вырожденная система\")\n",
    "        return None\n",
    "    \n",
    "    a = np.linalg.inv(w).dot(f)\n",
    "    X0 = [x0 ** i for i in range(n + 1)]\n",
    "    return a.dot(X0)\n",
    "\n",
    "X = np.array([-1.0, .0, 1.0, 2.0, 3.0, 4.0])\n",
    "Y = np.array([0.86603, 1.0, 0.86603, 0.5, .0, -0.5])"
   ]
  },
  {
   "cell_type": "code",
   "execution_count": 8,
   "id": "74168458",
   "metadata": {},
   "outputs": [
    {
     "data": {
      "image/png": "[encoded data removed]",
      "text/plain": [
       "<Figure size 432x288 with 1 Axes>"
      ]
     },
     "metadata": {
      "needs_background": "light"
     },
     "output_type": "display_data"
    }
   ],
   "source": [
    "plt.clf()\n",
    "plt.plot([x for x in np.arange(-1.0, 4.0, 0.01)], [solve(X, Y, 3, x) for x in np.arange(-1.0, 4.0, 0.01)], color = \"r\")\n",
    "plt.plot([x for x in np.arange(-1.0, 4.0, 0.01)], [solve(X, Y, 2, x) for x in np.arange(-1.0, 4.0, 0.01)], color = \"g\")\n",
    "plt.plot([x for x in np.arange(-1.0, 4.0, 0.01)], [solve(X, Y, 1, x) for x in np.arange(-1.0, 4.0, 0.01)], color = \"b\")\n",
    "plt.plot([x for x in X], [y for y in Y], color = \"black\")\n",
    "plt.show()"
   ]
  },
  {
   "cell_type": "markdown",
   "id": "7e1b45ad",
   "metadata": {},
   "source": [
    "Лабораторная 6: Численное интегрирование"
   ]
  },
  {
   "cell_type": "code",
   "execution_count": 9,
   "id": "ac793810",
   "metadata": {},
   "outputs": [
    {
     "name": "stdout",
     "output_type": "stream",
     "text": [
      "0.05815964255524695\n",
      "0.07378464255524694\n",
      "0.07284061196629331\n",
      "0.06597214255524694\n",
      "0.07055112216261118\n"
     ]
    }
   ],
   "source": [
    "def f(x):\n",
    "    return x / (3*x + 4)**2\n",
    "def left_rect_approx(a, b, h):\n",
    "    return sum([f(i) * h for i in np.arange(a, b, h)])\n",
    "def right_rect_approx(a, b, h):\n",
    "    return sum([f(i + h) * h for i in np.arange(a, b, h)])\n",
    "def mid_rect_approx(a, b, h):\n",
    "    return sum([f(i + h/2) * h for i in np.arange(a, b, h)])\n",
    "def trapezoid_approx(a, b, h):\n",
    "    return h * (f(a) + f(b)) / 2 + h * sum([f(i) for i in np.arange(a + h, b, h)])\n",
    "def simpson_approx(a, b, h):\n",
    "    return h / 6 * (f(a) + f(b) + 2 * sum([f(i) for i in np.arange(a + h, b, h)]) + 4 * sum([f(i + h/2) for i in np.arange(a, b, h)]))\n",
    "\n",
    "a, b, h = 0, 4, 1.0\n",
    "print(left_rect_approx(a, b, h))\n",
    "print(right_rect_approx(a, b, h))\n",
    "print(mid_rect_approx(a, b, h))\n",
    "print(trapezoid_approx(a, b, h))\n",
    "print(simpson_approx(a, b, h))"
   ]
  },
  {
   "cell_type": "code",
   "execution_count": 10,
   "id": "76515f0d",
   "metadata": {},
   "outputs": [
    {
     "data": {
      "image/png": "[encoded data removed]",
      "text/plain": [
       "<Figure size 432x288 with 1 Axes>"
      ]
     },
     "metadata": {
      "needs_background": "light"
     },
     "output_type": "display_data"
    }
   ],
   "source": [
    "d = 1\n",
    "delta = []\n",
    "while d > 0.00001:\n",
    "    delta.append(d)\n",
    "    d /= 2\n",
    "plt.clf()\n",
    "plt.plot([d for d in delta], [left_rect_approx(a, b, d) for d in delta], color = \"r\")\n",
    "plt.plot([d for d in delta], [right_rect_approx(a, b, d) for d in delta], color = \"g\")\n",
    "plt.plot([d for d in delta], [mid_rect_approx(a, b, d) for d in delta], color = \"b\")\n",
    "plt.plot([d for d in delta], [trapezoid_approx(a, b, d) for d in delta], color = \"black\")\n",
    "plt.plot([d for d in delta], [simpson_approx(a, b, d) for d in delta], color = \"purple\")\n",
    "ax = plt.gca()\n",
    "ax.set_xlim(ax.get_xlim()[::-1])\n",
    "plt.show()"
   ]
  }
 ],
 "metadata": {
  "kernelspec": {
   "display_name": "Python 3 (ipykernel)",
   "language": "python",
   "name": "python3"
  },
  "language_info": {
   "codemirror_mode": {
    "name": "ipython",
    "version": 3
   },
   "file_extension": ".py",
   "mimetype": "text/x-python",
   "name": "python",
   "nbconvert_exporter": "python",
   "pygments_lexer": "ipython3",
   "version": "3.8.12"
  }
 },
 "nbformat": 4,
 "nbformat_minor": 5
}
